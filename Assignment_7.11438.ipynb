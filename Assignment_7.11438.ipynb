{
 "cells": [
  {
   "cell_type": "code",
   "execution_count": 1,
   "metadata": {},
   "outputs": [],
   "source": [
    "# Assignment 7.1 Write a function to find moving average in an array over a window Test \n",
    "# it over [3, 5, 7, 2, 8, 10, 11, 65, 72, 81, 99, 100, 150] and window of 3.\n",
    "import numpy as np\n",
    "def moving_avg(array,window =3):\n",
    "    out_arr = np.array([])\n",
    "    '''\n",
    "    Passing a defined list to a function, initialize an empty array, iterating the passed input list for each element till n-k+1(length of list - window size + 1 ), adding three consecutive elements strating from index = 0 and dividing by window size of 3\n",
    "    and pushing that calculated value inside that blank array. Once the loop iteration is over function returns the array with appended values.\n",
    "    '''\n",
    "    for i in range(len(array)-window+1): \n",
    "        sliced_arr = sum(array[i:window+i])/window\n",
    "        out_arr = np.append(out_arr,sliced_arr)\n",
    "    return out_arr"
   ]
  },
  {
   "cell_type": "code",
   "execution_count": 2,
   "metadata": {},
   "outputs": [
    {
     "name": "stdout",
     "output_type": "stream",
     "text": [
      "[  5.           4.66666667   5.66666667   6.66666667   9.66666667\n",
      "  28.66666667  49.33333333  72.66666667  84.          93.33333333\n",
      " 116.33333333]\n"
     ]
    }
   ],
   "source": [
    "list = [3, 5, 7, 2, 8, 10, 11, 65, 72, 81, 99, 100, 150]\n",
    "array = np.array(list)\n",
    "print(moving_avg(array))"
   ]
  },
  {
   "cell_type": "code",
   "execution_count": null,
   "metadata": {},
   "outputs": [],
   "source": []
  }
 ],
 "metadata": {
  "kernelspec": {
   "display_name": "Python 3",
   "language": "python",
   "name": "python3"
  },
  "language_info": {
   "codemirror_mode": {
    "name": "ipython",
    "version": 3
   },
   "file_extension": ".py",
   "mimetype": "text/x-python",
   "name": "python",
   "nbconvert_exporter": "python",
   "pygments_lexer": "ipython3",
   "version": "3.6.5"
  }
 },
 "nbformat": 4,
 "nbformat_minor": 2
}
